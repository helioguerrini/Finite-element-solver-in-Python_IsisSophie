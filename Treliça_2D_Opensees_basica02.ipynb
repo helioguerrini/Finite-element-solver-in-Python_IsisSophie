{
  "nbformat": 4,
  "nbformat_minor": 0,
  "metadata": {
    "colab": {
      "provenance": [],
      "authorship_tag": "ABX9TyM5Ak/e+TgcshwgAWXgwnsw",
      "include_colab_link": true
    },
    "kernelspec": {
      "name": "python3",
      "display_name": "Python 3"
    },
    "language_info": {
      "name": "python"
    }
  },
  "cells": [
    {
      "cell_type": "markdown",
      "metadata": {
        "id": "view-in-github",
        "colab_type": "text"
      },
      "source": [
        "<a href=\"https://colab.research.google.com/github/helioguerrini/Finite-element-solver-in-Python_IsisSophie/blob/main/Treli%C3%A7a_2D_Opensees_basica02.ipynb\" target=\"_parent\"><img src=\"https://colab.research.google.com/assets/colab-badge.svg\" alt=\"Open In Colab\"/></a>"
      ]
    },
    {
      "cell_type": "code",
      "execution_count": null,
      "metadata": {
        "id": "iKAuWRfa5BrU",
        "colab": {
          "base_uri": "https://localhost:8080/"
        },
        "outputId": "8e86f43c-b0e4-4a8d-902c-076b9b845a4f"
      },
      "outputs": [
        {
          "output_type": "stream",
          "name": "stdout",
          "text": [
            "Collecting openseespy\n",
            "  Downloading openseespy-3.7.0.6-py3-none-any.whl.metadata (2.1 kB)\n",
            "Collecting openseespylinux>=3.7.0.6 (from openseespy)\n",
            "  Downloading openseespylinux-3.7.0.6-py3-none-any.whl.metadata (1.0 kB)\n",
            "Downloading openseespy-3.7.0.6-py3-none-any.whl (4.0 kB)\n",
            "Downloading openseespylinux-3.7.0.6-py3-none-any.whl (54.6 MB)\n",
            "\u001b[2K   \u001b[90m━━━━━━━━━━━━━━━━━━━━━━━━━━━━━━━━━━━━━━━━\u001b[0m \u001b[32m54.6/54.6 MB\u001b[0m \u001b[31m10.7 MB/s\u001b[0m eta \u001b[36m0:00:00\u001b[0m\n",
            "\u001b[?25hInstalling collected packages: openseespylinux, openseespy\n",
            "Successfully installed openseespy-3.7.0.6 openseespylinux-3.7.0.6\n"
          ]
        }
      ],
      "source": [
        "pip install openseespy"
      ]
    },
    {
      "cell_type": "code",
      "source": [
        "pip install opsvis"
      ],
      "metadata": {
        "colab": {
          "base_uri": "https://localhost:8080/"
        },
        "id": "jaVkAysthqv9",
        "outputId": "291de6c7-a811-4e83-bc63-597b6471167c"
      },
      "execution_count": null,
      "outputs": [
        {
          "output_type": "stream",
          "name": "stdout",
          "text": [
            "Collecting opsvis\n",
            "  Downloading opsvis-1.1.13-py3-none-any.whl.metadata (1.1 kB)\n",
            "Requirement already satisfied: openseespy in /usr/local/lib/python3.11/dist-packages (from opsvis) (3.7.0.6)\n",
            "Requirement already satisfied: openseespylinux>=3.7.0.6 in /usr/local/lib/python3.11/dist-packages (from openseespy->opsvis) (3.7.0.6)\n",
            "Downloading opsvis-1.1.13-py3-none-any.whl (53 kB)\n",
            "\u001b[?25l   \u001b[90m━━━━━━━━━━━━━━━━━━━━━━━━━━━━━━━━━━━━━━━━\u001b[0m \u001b[32m0.0/53.1 kB\u001b[0m \u001b[31m?\u001b[0m eta \u001b[36m-:--:--\u001b[0m\r\u001b[2K   \u001b[90m━━━━━━━━━━━━━━━━━━━━━━━━━━━━━━━━━━━━━━━━\u001b[0m \u001b[32m53.1/53.1 kB\u001b[0m \u001b[31m2.8 MB/s\u001b[0m eta \u001b[36m0:00:00\u001b[0m\n",
            "\u001b[?25hInstalling collected packages: opsvis\n",
            "Successfully installed opsvis-1.1.13\n"
          ]
        }
      ]
    },
    {
      "cell_type": "code",
      "source": [
        "# Carrega os módulos necessários\n",
        "from openseespy.opensees import *\n",
        "import opsvis as opsv\n",
        "import math\n",
        "import numpy as np\n",
        "import matplotlib.pyplot as plt"
      ],
      "metadata": {
        "id": "jlAZ9O-FLjDw"
      },
      "execution_count": null,
      "outputs": []
    },
    {
      "cell_type": "code",
      "source": [
        "############## Criação e visualização de geometria #############\n",
        "################### Tabela de coordenadas nodais ###############\n",
        "#                                           nó 1    nó 2        nó n\n",
        "#Tabela de coordenadas nodais = np.array([[x1,y1],[x2,y2],...,[xn,yn]])\n",
        "nohs = np.array([[0.,0.],[40.,0.],[40.,30.],[0.,30.]])\n",
        "\n",
        "### Matriz de conectividade - Conexão das Barras da Treliça ###\n",
        "barras = np.array([[1,2],[2,3],[3,4],[1,3]])\n",
        "\n",
        "# Visualização do modelo da treliça\n",
        "fig = plt.figure()\n",
        "axes = fig.add_axes([0.05,0.05,1,1])\n",
        "fig.gca().set_aspect('equal', adjustable='box')\n",
        "\n",
        "#Plot as barras\n",
        "for brr in barras:\n",
        "    nohs_i = brr[0] #Número do nó para o nó i deste elemento\n",
        "    nohs_j = brr[1] #Número do nó para o nó j deste elemento\n",
        "\n",
        "    ix = nohs[nohs_i-1,0] #Coordenada x do nó i deste elemento.\n",
        "    iy = nohs[nohs_i-1,1] #Coordenada y do nó i deste elemento.\n",
        "    jx = nohs[nohs_j-1,0] #Coordenada x do nó j deste elemento.r\n",
        "    jy = nohs[nohs_j-1,1] #Coordenada y do nó j deste elemento.\n",
        "\n",
        "    axes.plot([ix,jx],[iy,jy],'b') #Member\n",
        "\n",
        "#Plot nohs\n",
        "for n in nohs:\n",
        "    axes.plot([n[0]],[n[1]],'bo')\n",
        "\n",
        "axes.set_xlabel('Distância')\n",
        "axes.set_ylabel('Distância')\n",
        "axes.set_title('Modelo de Treliça')\n",
        "axes.grid()\n",
        "plt.show()\n"
      ],
      "metadata": {
        "colab": {
          "base_uri": "https://localhost:8080/",
          "height": 582
        },
        "id": "W92A_FNshWkj",
        "outputId": "e9ad7b0c-ce4c-4f3b-f0ec-b4a26189f428"
      },
      "execution_count": null,
      "outputs": [
        {
          "output_type": "display_data",
          "data": {
            "text/plain": [
              "<Figure size 640x480 with 1 Axes>"
            ],
            "image/png": "[encoded data removed]"
          },
          "metadata": {}
        }
      ]
    },
    {
      "cell_type": "code",
      "source": [
        "# Limpa o modelo anterior\n",
        "wipe()\n",
        "\n",
        "# Definindo o modelo\n",
        "model('basic', '-ndm', 2, '-ndf', 2)  # Modelo 2D com 2 graus de liberdade por nó\n",
        "\n",
        "# Inserção das coordenadas nodais no modelo\n",
        "for i in range(len(nohs)):\n",
        "    node(i+1, nohs[i,0], nohs[i,1])\n",
        "\n",
        "# Definindo propriedades do material (E, área)\n",
        "E = 29.5e6  # Módulo de elasticidade\n",
        "A = 1.0  # Área da seção transversal\n",
        "\n",
        "# Material elástico\n",
        "uniaxialMaterial('Elastic', 1, E)\n",
        "\n",
        "# Inserção da conectividade entre as barras no modelo\n",
        "for idx, barNo in enumerate(barras):\n",
        "  # Elementos da treliça ('Truss', Barra, nó_i, nó_f, seção A, material)\n",
        "  element('Truss', idx+1, int(barNo[0]), int(barNo[1]), A, 1)  # Barra 1\n",
        "\n",
        "# Restrições (nó: tag, ux, uy)\n",
        "fix(1, 1, 1)  # Nó 1 fixo em x e y\n",
        "fix(2, 0, 1)  # Nó 2 fixo em y\n",
        "fix(4, 1, 1)  # Nó 4 fixo em x e y\n",
        "\n",
        "# Aplicando cargas\n",
        "timeSeries('Linear', 1)\n",
        "pattern('Plain', 1, 1)\n",
        "load(2, 20000.0, 0.0)  # Carga de 12 kN no nó 3 (direção x)\n",
        "load(3, 0.0, -25000.0)  # Carga de 12 kN no nó 3 (direção x)\n",
        "\n",
        "\n",
        "# Configurações do analisador\n",
        "system('BandSPD')  # Solução direta\n",
        "numberer('Plain')  # Reordenação para eficiência\n",
        "constraints('Plain')  # Condições de contorno simples\n",
        "integrator('LoadControl', 1.0)  # Controle de carga estática\n",
        "algorithm('Linear')  # Linear\n",
        "analysis('Static')  # Análise estática\n",
        "\n",
        "# Executando a análise\n",
        "analyze(1)"
      ],
      "metadata": {
        "id": "mkxwKwK3PRd5",
        "colab": {
          "base_uri": "https://localhost:8080/"
        },
        "outputId": "ae0ce3a3-d7a3-49b4-dbe1-78a358759387"
      },
      "execution_count": null,
      "outputs": [
        {
          "output_type": "execute_result",
          "data": {
            "text/plain": [
              "0"
            ]
          },
          "metadata": {},
          "execution_count": 9
        }
      ]
    },
    {
      "cell_type": "code",
      "source": [
        "# Resultados\n",
        "print(\"\\nDeslocamentos dos Nós:\")\n",
        "for i in range(1, len(nohs)+1):\n",
        "    print(f\"Nó {i}: {nodeDisp(i)}\")  # Deslocamentos nos nós\n",
        "\n",
        "print(\"\\nForças axiais nas barras:\")\n",
        "for i in range(1, len(barras)+1):\n",
        "    x1, y1 = nodeCoord(int(barras[i-1][0]))\n",
        "    x2, y2 = nodeCoord(int(barras[i-1][1]))\n",
        "    theta = math.atan2(y2 - y1, x2 - x1)\n",
        "    forces = eleResponse(i, 'force')\n",
        "    Faxial = (math.cos(theta))*forces[2] + (math.sin(theta))*forces[3]\n",
        "    print(f\"Barra {i}: Força axial = {round(Faxial,4)}, Tensão normal = {round((Faxial/A),4)}\")\n",
        "    #print(f\"Barra {i}: f1x = {forces[0]} N, f1y = {forces[1]} N, f2x = {forces[2]} N, f2y = {forces[3]} N\")\n",
        "print()\n",
        "printModel()\n",
        "opsv.plot_load()\n",
        "opsv.plot_defo()"
      ],
      "metadata": {
        "colab": {
          "base_uri": "https://localhost:8080/",
          "height": 1000
        },
        "id": "YZ3X49OuSyyY",
        "outputId": "9a0056f7-0ffa-4367-8da0-54a8b6156673"
      },
      "execution_count": null,
      "outputs": [
        {
          "output_type": "stream",
          "name": "stdout",
          "text": [
            "\n",
            "Deslocamentos dos Nós:\n",
            "Nó 1: [0.0, 0.0]\n",
            "Nó 2: [0.027118644067796613, 0.0]\n",
            "Nó 3: [0.005649717514124292, -0.022245762711864403]\n",
            "Nó 4: [0.0, 0.0]\n",
            "\n",
            "Forças axiais nas barras:\n",
            "Barra 1: Força axial = 20000.0, Tensão normal = 20000.0\n",
            "Barra 2: Força axial = -21875.0, Tensão normal = -21875.0\n",
            "Barra 3: Força axial = 4166.6667, Tensão normal = 4166.6667\n",
            "Barra 4: Força axial = -5208.3333, Tensão normal = -5208.3333\n",
            "\n"
          ]
        },
        {
          "output_type": "stream",
          "name": "stderr",
          "text": [
            "Current Domain Information\n",
            "\tCurrent Time: 1\n",
            "\tCommitted Time: 1\n",
            "NODE DATA: NumNodes: 4\n",
            "\n",
            "numComponents: 4\n",
            "\n",
            " Node: 1\n",
            "\tCoordinates  : 0 0 \n",
            "\tDisps: 0 0 \n",
            "\tVelocities   : 0 0 \n",
            "\t unbalanced Load: 0 0 \n",
            "\tID : -1 -1 \n",
            "\n",
            "\n",
            " Node: 2\n",
            "\tCoordinates  : 40 0 \n",
            "\tDisps: 0.0271186 0 \n",
            "\tVelocities   : 0 0 \n",
            "\t unbalanced Load: 20000 0 \n",
            "\tID : 0 -1 \n",
            "\n",
            "\n",
            " Node: 3\n",
            "\tCoordinates  : 40 30 \n",
            "\tDisps: 0.00564972 -0.0222458 \n",
            "\tVelocities   : 0 0 \n",
            "\t unbalanced Load: 0 -25000 \n",
            "\tID : 1 2 \n",
            "\n",
            "\n",
            " Node: 4\n",
            "\tCoordinates  : 0 30 \n",
            "\tDisps: 0 0 \n",
            "\tVelocities   : 0 0 \n",
            "\t unbalanced Load: 0 0 \n",
            "\tID : -1 -1 \n",
            "\n",
            "ELEMENT DATA: NumEle: 4\n",
            "\n",
            "numComponents: 4\n",
            "Element: 1 type: Truss  iNode: 1 jNode: 2 Area: 1 Mass/Length: 0 cMass: 0 \n",
            "\t strain: 0.000677966 axial load: 20000 \n",
            "\t unbalanced load: -20000 -0 20000 0 \n",
            " \t Material: \n",
            "Element: 2 type: Truss  iNode: 2 jNode: 3 Area: 1 Mass/Length: 0 cMass: 0 \n",
            "\t strain: -0.000741525 axial load: -21875 \n",
            "\t unbalanced load: 0 21875 -0 -21875 \n",
            " \t Material: \n",
            "Element: 3 type: Truss  iNode: 3 jNode: 4 Area: 1 Mass/Length: 0 cMass: 0 \n",
            "\t strain: 0.000141243 axial load: 4166.67 \n",
            "\t unbalanced load: 4166.67 -0 -4166.67 0 \n",
            " \t Material: \n",
            "Element: 4 type: Truss  iNode: 1 jNode: 3 Area: 1 Mass/Length: 0 cMass: 0 \n",
            "\t strain: -0.000176554 axial load: -5208.33 \n",
            "\t unbalanced load: 4166.67 3125 -4166.67 -3125 \n",
            " \t Material: \n",
            "\n",
            "SP_Constraints: numConstraints: 5\n",
            "\n",
            "numComponents: 5\n",
            "SP_Constraint: 0\t Node: 1 DOF: 1 ref value: 0 current value: 0 initial value: 0\n",
            "SP_Constraint: 1\t Node: 1 DOF: 2 ref value: 0 current value: 0 initial value: 0\n",
            "SP_Constraint: 2\t Node: 2 DOF: 2 ref value: 0 current value: 0 initial value: 0\n",
            "SP_Constraint: 3\t Node: 4 DOF: 1 ref value: 0 current value: 0 initial value: 0\n",
            "SP_Constraint: 4\t Node: 4 DOF: 2 ref value: 0 current value: 0 initial value: 0\n",
            "\n",
            "Pressure_Constraints: numConstraints: 0\n",
            "\n",
            "numComponents: 0\n",
            "\n",
            "MP_Constraints: numConstraints: 0\n",
            "\n",
            "numComponents: 0\n",
            "\n",
            "LOAD PATTERNS: numPatterns: 1\n",
            "\n",
            "\n",
            "numComponents: 1\n",
            "Load Pattern: 1\n",
            "  Scale Factor: 1\n",
            "Linear Series: constant factor: 1\n",
            "  Nodal Loads: \n",
            "\n",
            "numComponents: 2\n",
            "Nodal Load: 2 load : 20000 0 \n",
            "Nodal Load: 3 load : 0 -25000 \n",
            "\n",
            "  Elemental Loads: \n",
            "\n",
            "numComponents: 0\n",
            "\n",
            "  Single Point Constraints: \n",
            "\n",
            "numComponents: 0\n",
            "\n",
            "PARAMETERS: numParameters: 0\n",
            "\n",
            "\n",
            "numComponents: 0\n"
          ]
        },
        {
          "output_type": "execute_result",
          "data": {
            "text/plain": [
              "147.49999999999997"
            ]
          },
          "metadata": {},
          "execution_count": 13
        },
        {
          "output_type": "display_data",
          "data": {
            "text/plain": [
              "<Figure size 640x480 with 1 Axes>"
            ],
            "image/png": "[encoded data removed]"
          },
          "metadata": {}
        },
        {
          "output_type": "display_data",
          "data": {
            "text/plain": [
              "<Figure size 640x480 with 1 Axes>"
            ],
            "image/png": "[encoded data removed]"
          },
          "metadata": {}
        }
      ]
    }
  ]
}